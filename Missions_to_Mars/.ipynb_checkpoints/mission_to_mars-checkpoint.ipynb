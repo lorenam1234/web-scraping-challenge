{
 "cells": [
  {
   "cell_type": "markdown",
   "id": "f4427c26",
   "metadata": {},
   "source": [
    "## Web Scraping Homework - Mission to Mars ##"
   ]
  },
  {
   "cell_type": "code",
   "execution_count": 1,
   "id": "bea6f408",
   "metadata": {},
   "outputs": [],
   "source": [
    "from splinter import Browser\n",
    "from webdriver_manager.chrome import ChromeDriverManager\n",
    "from bs4 import BeautifulSoup as bs\n",
    "#from selenium import webdriver\n",
    "\n",
    "import pandas as pd\n",
    "import os\n",
    "import requests\n",
    "import pymongo\n",
    "\n",
    "\n",
    "#import time\n",
    "\n",
    "nasa_url = \"https://mars.nasa.gov/news/\"\n",
    "spaceimages_url = \"https://spaceimages-mars.com/\"\n",
    "marsfacts_url = \"https://galaxyfacts-mars.com/\"\n"
   ]
  },
  {
   "cell_type": "code",
   "execution_count": 2,
   "id": "52e76661",
   "metadata": {},
   "outputs": [
    {
     "name": "stderr",
     "output_type": "stream",
     "text": [
      "\n",
      "\n",
      "====== WebDriver manager ======\n",
      "Current google-chrome version is 96.0.4664\n",
      "Get LATEST chromedriver version for 96.0.4664 google-chrome\n",
      "Driver [/Users/lorenamartinez/.wdm/drivers/chromedriver/mac64/96.0.4664.45/chromedriver] found in cache\n"
     ]
    }
   ],
   "source": [
    "# splinter\n",
    "executable_path = {'executable_path': ChromeDriverManager().install()}\n",
    "browser = Browser('chrome', **executable_path, headless=False)"
   ]
  },
  {
   "cell_type": "markdown",
   "id": "c019517b",
   "metadata": {},
   "source": [
    "### NASA Mars News ###"
   ]
  },
  {
   "cell_type": "code",
   "execution_count": 3,
   "id": "a0adbfb6",
   "metadata": {},
   "outputs": [],
   "source": [
    "# visit mars.nasa.gov/news\n",
    "browser.visit(nasa_url)"
   ]
  },
  {
   "cell_type": "code",
   "execution_count": 4,
   "id": "a2ce566e",
   "metadata": {},
   "outputs": [],
   "source": [
    "# scrape to Soup\n",
    "nasa_html = browser.html\n",
    "nasa_soup = bs(nasa_html, \"html.parser\")"
   ]
  },
  {
   "cell_type": "code",
   "execution_count": 5,
   "id": "3207711c",
   "metadata": {},
   "outputs": [
    {
     "name": "stdout",
     "output_type": "stream",
     "text": [
      "* Latest News Title *\n",
      "Team Behind NASA's Newest Mars Rover to Honor Persevering Students\n",
      "\n",
      "* Paragraph Text *\n",
      "NASA researchers and colleagues from around the world will present the latest findings on a range of Earth and space science topics at the annual American Geophysical Union (AGU) meeting, being held virtually and in New Orleans from Monday, Dec. 13, through Friday, Dec. 17. \n"
     ]
    }
   ],
   "source": [
    "# latest news title and paragraph\n",
    "news_title =  nasa_soup.find_all(\"div\", class_=\"content_title\")[1].text\n",
    "news_p = nasa_soup.find_all(\"div\", class_=\"article_teaser_body\")[1].text\n",
    "\n",
    "#display\n",
    "print(\"* Latest News Title *\")\n",
    "print(news_title)\n",
    "print()\n",
    "print(\"* Paragraph Text *\")\n",
    "print(news_p)"
   ]
  },
  {
   "cell_type": "markdown",
   "id": "3c46bdbc",
   "metadata": {},
   "source": [
    "### JPL Mars Space Images - Featured Image ###"
   ]
  },
  {
   "cell_type": "code",
   "execution_count": 6,
   "id": "727e2ad9",
   "metadata": {},
   "outputs": [],
   "source": [
    "# visit mars.nasa.gov/news\n",
    "browser.visit(spaceimages_url)"
   ]
  },
  {
   "cell_type": "code",
   "execution_count": 7,
   "id": "a97297f0",
   "metadata": {},
   "outputs": [],
   "source": [
    "space_html = browser.html\n",
    "space_soup = bs(space_html, \"html.parser\")"
   ]
  },
  {
   "cell_type": "code",
   "execution_count": 8,
   "id": "3eac7127",
   "metadata": {},
   "outputs": [],
   "source": [
    "button = browser.find_by_tag('button')[1]\n",
    "button.click()\n",
    "\n",
    "img_html = browser.html\n",
    "img_soup = bs(img_html, \"html.parser\")"
   ]
  },
  {
   "cell_type": "code",
   "execution_count": 9,
   "id": "f42a21ab",
   "metadata": {},
   "outputs": [
    {
     "name": "stdout",
     "output_type": "stream",
     "text": [
      "https://spaceimages-mars.com/image/featured/mars1.jpg\n"
     ]
    }
   ],
   "source": [
    "#image_url = img_soup.find('img',{'class_':'fancybox-image'}).get['src']\n",
    "img_url = img_soup.find('img', class_='fancybox-image').get('src')\n",
    "featured_image_url = spaceimages_url + img_url\n",
    "print(featured_image_url)"
   ]
  },
  {
   "cell_type": "markdown",
   "id": "075caf87",
   "metadata": {},
   "source": [
    "### Mars Facts ###"
   ]
  },
  {
   "cell_type": "code",
   "execution_count": 10,
   "id": "eaabf3c2",
   "metadata": {},
   "outputs": [],
   "source": [
    "marsfacts_url = \"https://galaxyfacts-mars.com/\"\n",
    "browser.visit(marsfacts_url)"
   ]
  },
  {
   "cell_type": "code",
   "execution_count": 16,
   "id": "75268e16",
   "metadata": {},
   "outputs": [],
   "source": [
    "#pd.read_html(html_no_head,header=0)\n",
    "html_df = pd.read_html(marsfacts_url, header=0)"
   ]
  },
  {
   "cell_type": "code",
   "execution_count": 17,
   "id": "307e106d",
   "metadata": {},
   "outputs": [
    {
     "name": "stdout",
     "output_type": "stream",
     "text": [
      "[  Mars - Earth Comparison             Mars            Earth\n",
      "0               Diameter:         6,779 km        12,742 km\n",
      "1                   Mass:  6.39 × 10^23 kg  5.97 × 10^24 kg\n",
      "2                  Moons:                2                1\n",
      "3      Distance from Sun:   227,943,824 km   149,598,262 km\n",
      "4         Length of Year:   687 Earth days      365.24 days\n",
      "5            Temperature:     -87 to -5 °C      -88 to 58°C,    Equatorial Diameter:                       6,792 km\n",
      "0       Polar Diameter:                       6,752 km\n",
      "1                 Mass:  6.39 × 10^23 kg (0.11 Earths)\n",
      "2                Moons:          2 ( Phobos & Deimos )\n",
      "3       Orbit Distance:       227,943,824 km (1.38 AU)\n",
      "4         Orbit Period:           687 days (1.9 years)\n",
      "5  Surface Temperature:                   -87 to -5 °C\n",
      "6         First Record:              2nd millennium BC\n",
      "7          Recorded By:           Egyptian astronomers]\n"
     ]
    }
   ],
   "source": [
    "print(html_df)"
   ]
  },
  {
   "cell_type": "code",
   "execution_count": 24,
   "id": "128460a6",
   "metadata": {},
   "outputs": [
    {
     "name": "stdout",
     "output_type": "stream",
     "text": [
      "  Mars - Earth Comparison             Mars            Earth\n",
      "0               Diameter:         6,779 km        12,742 km\n",
      "1                   Mass:  6.39 × 10^23 kg  5.97 × 10^24 kg\n",
      "2                  Moons:                2                1\n",
      "3      Distance from Sun:   227,943,824 km   149,598,262 km\n",
      "4         Length of Year:   687 Earth days      365.24 days\n",
      "5            Temperature:     -87 to -5 °C      -88 to 58°C\n"
     ]
    }
   ],
   "source": [
    "print(html_df[0])"
   ]
  },
  {
   "cell_type": "code",
   "execution_count": 25,
   "id": "382e7d45",
   "metadata": {},
   "outputs": [],
   "source": [
    "html_df = html_df[0]"
   ]
  },
  {
   "cell_type": "code",
   "execution_count": 26,
   "id": "1c2808b5",
   "metadata": {},
   "outputs": [
    {
     "name": "stdout",
     "output_type": "stream",
     "text": [
      "  Mars - Earth Comparison             Mars            Earth\n",
      "0               Diameter:         6,779 km        12,742 km\n",
      "1                   Mass:  6.39 × 10^23 kg  5.97 × 10^24 kg\n",
      "2                  Moons:                2                1\n",
      "3      Distance from Sun:   227,943,824 km   149,598,262 km\n",
      "4         Length of Year:   687 Earth days      365.24 days\n",
      "5            Temperature:     -87 to -5 °C      -88 to 58°C\n"
     ]
    }
   ],
   "source": [
    "print(html_df)"
   ]
  },
  {
   "cell_type": "code",
   "execution_count": 30,
   "id": "b79e6b6f",
   "metadata": {},
   "outputs": [],
   "source": [
    "facts_html = html_df.to_html()"
   ]
  },
  {
   "cell_type": "code",
   "execution_count": 31,
   "id": "46c65fad",
   "metadata": {},
   "outputs": [
    {
     "name": "stdout",
     "output_type": "stream",
     "text": [
      "<table border=\"1\" class=\"dataframe\">\n",
      "  <thead>\n",
      "    <tr style=\"text-align: right;\">\n",
      "      <th></th>\n",
      "      <th>Mars - Earth Comparison</th>\n",
      "      <th>Mars</th>\n",
      "      <th>Earth</th>\n",
      "    </tr>\n",
      "  </thead>\n",
      "  <tbody>\n",
      "    <tr>\n",
      "      <th>0</th>\n",
      "      <td>Diameter:</td>\n",
      "      <td>6,779 km</td>\n",
      "      <td>12,742 km</td>\n",
      "    </tr>\n",
      "    <tr>\n",
      "      <th>1</th>\n",
      "      <td>Mass:</td>\n",
      "      <td>6.39 × 10^23 kg</td>\n",
      "      <td>5.97 × 10^24 kg</td>\n",
      "    </tr>\n",
      "    <tr>\n",
      "      <th>2</th>\n",
      "      <td>Moons:</td>\n",
      "      <td>2</td>\n",
      "      <td>1</td>\n",
      "    </tr>\n",
      "    <tr>\n",
      "      <th>3</th>\n",
      "      <td>Distance from Sun:</td>\n",
      "      <td>227,943,824 km</td>\n",
      "      <td>149,598,262 km</td>\n",
      "    </tr>\n",
      "    <tr>\n",
      "      <th>4</th>\n",
      "      <td>Length of Year:</td>\n",
      "      <td>687 Earth days</td>\n",
      "      <td>365.24 days</td>\n",
      "    </tr>\n",
      "    <tr>\n",
      "      <th>5</th>\n",
      "      <td>Temperature:</td>\n",
      "      <td>-87 to -5 °C</td>\n",
      "      <td>-88 to 58°C</td>\n",
      "    </tr>\n",
      "  </tbody>\n",
      "</table>\n"
     ]
    }
   ],
   "source": [
    "print(facts_html)"
   ]
  },
  {
   "cell_type": "code",
   "execution_count": null,
   "id": "889bb8bb",
   "metadata": {},
   "outputs": [],
   "source": []
  },
  {
   "cell_type": "code",
   "execution_count": null,
   "id": "bfdc4cbb",
   "metadata": {},
   "outputs": [],
   "source": []
  },
  {
   "cell_type": "code",
   "execution_count": null,
   "id": "368bd7b5",
   "metadata": {},
   "outputs": [],
   "source": []
  },
  {
   "cell_type": "code",
   "execution_count": null,
   "id": "486283fe",
   "metadata": {},
   "outputs": [],
   "source": []
  },
  {
   "cell_type": "code",
   "execution_count": null,
   "id": "2c76ea8c",
   "metadata": {},
   "outputs": [],
   "source": []
  },
  {
   "cell_type": "markdown",
   "id": "80dd4b08",
   "metadata": {},
   "source": [
    "### Mars Hemispheres ###"
   ]
  },
  {
   "cell_type": "code",
   "execution_count": null,
   "id": "aa6c4cf7",
   "metadata": {},
   "outputs": [],
   "source": []
  },
  {
   "cell_type": "code",
   "execution_count": null,
   "id": "e026baab",
   "metadata": {},
   "outputs": [],
   "source": []
  },
  {
   "cell_type": "code",
   "execution_count": null,
   "id": "055ea0bf",
   "metadata": {},
   "outputs": [],
   "source": []
  },
  {
   "cell_type": "code",
   "execution_count": null,
   "id": "413c5f0f",
   "metadata": {},
   "outputs": [],
   "source": []
  },
  {
   "cell_type": "code",
   "execution_count": null,
   "id": "930922a7",
   "metadata": {},
   "outputs": [],
   "source": []
  }
 ],
 "metadata": {
  "kernelspec": {
   "display_name": "Python 3",
   "language": "python",
   "name": "python3"
  },
  "language_info": {
   "codemirror_mode": {
    "name": "ipython",
    "version": 3
   },
   "file_extension": ".py",
   "mimetype": "text/x-python",
   "name": "python",
   "nbconvert_exporter": "python",
   "pygments_lexer": "ipython3",
   "version": "3.8.8"
  }
 },
 "nbformat": 4,
 "nbformat_minor": 5
}
