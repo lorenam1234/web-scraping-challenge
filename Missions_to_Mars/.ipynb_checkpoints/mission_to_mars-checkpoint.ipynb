{
 "cells": [
  {
   "cell_type": "markdown",
   "id": "f4427c26",
   "metadata": {},
   "source": [
    "## Web Scraping Homework - Mission to Mars ##"
   ]
  },
  {
   "cell_type": "code",
   "execution_count": 53,
   "id": "bea6f408",
   "metadata": {},
   "outputs": [],
   "source": [
    "from splinter import Browser\n",
    "from webdriver_manager.chrome import ChromeDriverManager\n",
    "from bs4 import BeautifulSoup as bs\n",
    "from selenium import webdriver\n",
    "import pandas as pd\n",
    "import time"
   ]
  },
  {
   "cell_type": "code",
   "execution_count": 54,
   "id": "edcda46a",
   "metadata": {},
   "outputs": [],
   "source": [
    "nasa_url = \"https://mars.nasa.gov/news/\"\n",
    "spaceimages_url = \"https://spaceimages-mars.com/\"\n",
    "marsfacts_url = \"https://galaxyfacts-mars.com/\"\n",
    "hemispheres_url = \"https://marshemispheres.com/\""
   ]
  },
  {
   "cell_type": "code",
   "execution_count": 55,
   "id": "52e76661",
   "metadata": {},
   "outputs": [
    {
     "name": "stderr",
     "output_type": "stream",
     "text": [
      "\n",
      "\n",
      "====== WebDriver manager ======\n",
      "Current google-chrome version is 96.0.4664\n",
      "Get LATEST chromedriver version for 96.0.4664 google-chrome\n",
      "Driver [/Users/lorenamartinez/.wdm/drivers/chromedriver/mac64/96.0.4664.45/chromedriver] found in cache\n"
     ]
    }
   ],
   "source": [
    "executable_path = {'executable_path': ChromeDriverManager().install()}\n",
    "browser = Browser('chrome', **executable_path, headless=False)"
   ]
  },
  {
   "cell_type": "markdown",
   "id": "c019517b",
   "metadata": {},
   "source": [
    "### NASA Mars News ###"
   ]
  },
  {
   "cell_type": "code",
   "execution_count": 56,
   "id": "a0adbfb6",
   "metadata": {},
   "outputs": [],
   "source": [
    "browser.visit(nasa_url)"
   ]
  },
  {
   "cell_type": "code",
   "execution_count": 57,
   "id": "a2ce566e",
   "metadata": {},
   "outputs": [],
   "source": [
    "nasa_html = browser.html\n",
    "nasa_soup = bs(nasa_html, \"html.parser\")"
   ]
  },
  {
   "cell_type": "code",
   "execution_count": 58,
   "id": "3207711c",
   "metadata": {},
   "outputs": [
    {
     "name": "stdout",
     "output_type": "stream",
     "text": [
      "* Latest News Title *\n",
      "NASA Begins Testing Robotics to Bring First Samples Back From Mars \n",
      "\n",
      "* Paragraph Text *\n",
      "Middle schoolers who have pushed past obstacles to reach their academic goals will be celebrated by the mission team with a personal message beamed down from NASA’s Perseverance rover.\n"
     ]
    }
   ],
   "source": [
    "news_title =  nasa_soup.find_all(\"div\", class_=\"content_title\")[1].text\n",
    "news_p = nasa_soup.find_all(\"div\", class_=\"article_teaser_body\")[1].text\n",
    "\n",
    "print(\"* Latest News Title *\")\n",
    "print(news_title)\n",
    "print()\n",
    "print(\"* Paragraph Text *\")\n",
    "print(news_p)"
   ]
  },
  {
   "cell_type": "markdown",
   "id": "3c46bdbc",
   "metadata": {},
   "source": [
    "### JPL Mars Space Images - Featured Image ###"
   ]
  },
  {
   "cell_type": "code",
   "execution_count": 59,
   "id": "727e2ad9",
   "metadata": {},
   "outputs": [],
   "source": [
    "browser.visit(spaceimages_url)"
   ]
  },
  {
   "cell_type": "code",
   "execution_count": 60,
   "id": "a97297f0",
   "metadata": {},
   "outputs": [],
   "source": [
    "space_html = browser.html\n",
    "space_soup = bs(space_html, \"html.parser\")"
   ]
  },
  {
   "cell_type": "code",
   "execution_count": 61,
   "id": "3eac7127",
   "metadata": {},
   "outputs": [],
   "source": [
    "button = browser.find_by_tag('button')[1]\n",
    "button.click()\n",
    "\n",
    "img_html = browser.html\n",
    "img_soup = bs(img_html, \"html.parser\")"
   ]
  },
  {
   "cell_type": "code",
   "execution_count": 62,
   "id": "f42a21ab",
   "metadata": {},
   "outputs": [
    {
     "name": "stdout",
     "output_type": "stream",
     "text": [
      "https://spaceimages-mars.com/image/featured/mars2.jpg\n"
     ]
    }
   ],
   "source": [
    "img_url = img_soup.find('img', class_='fancybox-image').get('src')\n",
    "featured_image_url = spaceimages_url + img_url\n",
    "print(featured_image_url)"
   ]
  },
  {
   "cell_type": "markdown",
   "id": "075caf87",
   "metadata": {},
   "source": [
    "### Mars Facts ###"
   ]
  },
  {
   "cell_type": "code",
   "execution_count": 63,
   "id": "eaabf3c2",
   "metadata": {},
   "outputs": [],
   "source": [
    "marsfacts_url = \"https://galaxyfacts-mars.com/\"\n",
    "browser.visit(marsfacts_url)"
   ]
  },
  {
   "cell_type": "code",
   "execution_count": 64,
   "id": "75268e16",
   "metadata": {},
   "outputs": [],
   "source": [
    "html_df = pd.read_html(marsfacts_url, header=0)"
   ]
  },
  {
   "cell_type": "code",
   "execution_count": 65,
   "id": "9531e959",
   "metadata": {},
   "outputs": [],
   "source": [
    "html_df = html_df[0]"
   ]
  },
  {
   "cell_type": "code",
   "execution_count": 66,
   "id": "afcb78d5",
   "metadata": {},
   "outputs": [
    {
     "name": "stdout",
     "output_type": "stream",
     "text": [
      "  Mars - Earth Comparison             Mars            Earth\n",
      "0               Diameter:         6,779 km        12,742 km\n",
      "1                   Mass:  6.39 × 10^23 kg  5.97 × 10^24 kg\n",
      "2                  Moons:                2                1\n",
      "3      Distance from Sun:   227,943,824 km   149,598,262 km\n",
      "4         Length of Year:   687 Earth days      365.24 days\n",
      "5            Temperature:     -87 to -5 °C      -88 to 58°C\n"
     ]
    }
   ],
   "source": [
    "print(html_df)"
   ]
  },
  {
   "cell_type": "code",
   "execution_count": 67,
   "id": "26180235",
   "metadata": {},
   "outputs": [],
   "source": [
    "facts_html = html_df.to_html()"
   ]
  },
  {
   "cell_type": "code",
   "execution_count": 68,
   "id": "0001e282",
   "metadata": {},
   "outputs": [
    {
     "name": "stdout",
     "output_type": "stream",
     "text": [
      "<table border=\"1\" class=\"dataframe\">\n",
      "  <thead>\n",
      "    <tr style=\"text-align: right;\">\n",
      "      <th></th>\n",
      "      <th>Mars - Earth Comparison</th>\n",
      "      <th>Mars</th>\n",
      "      <th>Earth</th>\n",
      "    </tr>\n",
      "  </thead>\n",
      "  <tbody>\n",
      "    <tr>\n",
      "      <th>0</th>\n",
      "      <td>Diameter:</td>\n",
      "      <td>6,779 km</td>\n",
      "      <td>12,742 km</td>\n",
      "    </tr>\n",
      "    <tr>\n",
      "      <th>1</th>\n",
      "      <td>Mass:</td>\n",
      "      <td>6.39 × 10^23 kg</td>\n",
      "      <td>5.97 × 10^24 kg</td>\n",
      "    </tr>\n",
      "    <tr>\n",
      "      <th>2</th>\n",
      "      <td>Moons:</td>\n",
      "      <td>2</td>\n",
      "      <td>1</td>\n",
      "    </tr>\n",
      "    <tr>\n",
      "      <th>3</th>\n",
      "      <td>Distance from Sun:</td>\n",
      "      <td>227,943,824 km</td>\n",
      "      <td>149,598,262 km</td>\n",
      "    </tr>\n",
      "    <tr>\n",
      "      <th>4</th>\n",
      "      <td>Length of Year:</td>\n",
      "      <td>687 Earth days</td>\n",
      "      <td>365.24 days</td>\n",
      "    </tr>\n",
      "    <tr>\n",
      "      <th>5</th>\n",
      "      <td>Temperature:</td>\n",
      "      <td>-87 to -5 °C</td>\n",
      "      <td>-88 to 58°C</td>\n",
      "    </tr>\n",
      "  </tbody>\n",
      "</table>\n"
     ]
    }
   ],
   "source": [
    "print(facts_html)"
   ]
  },
  {
   "cell_type": "markdown",
   "id": "80dd4b08",
   "metadata": {},
   "source": [
    "### Mars Hemispheres ###"
   ]
  },
  {
   "cell_type": "code",
   "execution_count": 69,
   "id": "aa6c4cf7",
   "metadata": {},
   "outputs": [],
   "source": [
    "browser.visit(hemispheres_url)"
   ]
  },
  {
   "cell_type": "code",
   "execution_count": 70,
   "id": "e026baab",
   "metadata": {},
   "outputs": [],
   "source": [
    "hemispheres_html = browser.html\n",
    "hemispheres_soup = bs(hemispheres_html, \"html.parser\")"
   ]
  },
  {
   "cell_type": "code",
   "execution_count": 71,
   "id": "055ea0bf",
   "metadata": {},
   "outputs": [
    {
     "data": {
      "text/plain": [
       "[<a class=\"itemLink product-item\" href=\"cerberus.html\"><img alt=\"Cerberus Hemisphere Enhanced thumbnail\" class=\"thumb\" src=\"images/39d3266553462198bd2fbc4d18fbed17_cerberus_enhanced.tif_thumb.png\"/></a>,\n",
       " <a class=\"itemLink product-item\" href=\"cerberus.html\">\n",
       " <h3>Cerberus Hemisphere Enhanced</h3>\n",
       " </a>,\n",
       " <a class=\"itemLink product-item\" href=\"schiaparelli.html\"><img alt=\"Schiaparelli Hemisphere Enhanced thumbnail\" class=\"thumb\" src=\"images/08eac6e22c07fb1fe72223a79252de20_schiaparelli_enhanced.tif_thumb.png\"/></a>,\n",
       " <a class=\"itemLink product-item\" href=\"schiaparelli.html\">\n",
       " <h3>Schiaparelli Hemisphere Enhanced</h3>\n",
       " </a>,\n",
       " <a class=\"itemLink product-item\" href=\"syrtis.html\"><img alt=\"Syrtis Major Hemisphere Enhanced thumbnail\" class=\"thumb\" src=\"images/55a0a1e2796313fdeafb17c35925e8ac_syrtis_major_enhanced.tif_thumb.png\"/></a>,\n",
       " <a class=\"itemLink product-item\" href=\"syrtis.html\">\n",
       " <h3>Syrtis Major Hemisphere Enhanced</h3>\n",
       " </a>,\n",
       " <a class=\"itemLink product-item\" href=\"valles.html\"><img alt=\"Valles Marineris Hemisphere Enhanced thumbnail\" class=\"thumb\" src=\"images/4e59980c1c57f89c680c0e1ccabbeff1_valles_marineris_enhanced.tif_thumb.png\"/></a>,\n",
       " <a class=\"itemLink product-item\" href=\"valles.html\">\n",
       " <h3>Valles Marineris Hemisphere Enhanced</h3>\n",
       " </a>,\n",
       " <a class=\"itemLink product-item\" href=\"#\" onclick=\"showMain()\">\n",
       " <h3>Back</h3>\n",
       " </a>]"
      ]
     },
     "execution_count": 71,
     "metadata": {},
     "output_type": "execute_result"
    }
   ],
   "source": [
    "list_urls = hemispheres_soup.find_all('a', class_=\"itemLink product-item\")\n",
    "list_urls"
   ]
  },
  {
   "cell_type": "code",
   "execution_count": 72,
   "id": "4b4c9b54",
   "metadata": {},
   "outputs": [
    {
     "data": {
      "text/plain": [
       "['https://marshemispheres.com/cerberus.html',\n",
       " 'https://marshemispheres.com/schiaparelli.html',\n",
       " 'https://marshemispheres.com/syrtis.html',\n",
       " 'https://marshemispheres.com/valles.html']"
      ]
     },
     "execution_count": 72,
     "metadata": {},
     "output_type": "execute_result"
    }
   ],
   "source": [
    "links_list = []\n",
    "\n",
    "for x in list_urls:\n",
    "    if (x[\"href\"] != \"#\"):\n",
    "        img_url = hemispheres_url + x[\"href\"]\n",
    "        if img_url not in links_list:\n",
    "            links_list.append(img_url)\n",
    "            \n",
    "links_list"
   ]
  },
  {
   "cell_type": "code",
   "execution_count": 73,
   "id": "43d36f78",
   "metadata": {},
   "outputs": [
    {
     "data": {
      "text/plain": [
       "[{'title': 'Cerberus Hemisphere',\n",
       "  'img_url': 'https://marshemispheres.com/images/f5e372a36edfa389625da6d0cc25d905_cerberus_enhanced.tif_full.jpg'},\n",
       " {'title': 'Schiaparelli Hemisphere',\n",
       "  'img_url': 'https://marshemispheres.com/images/3778f7b43bbbc89d6e3cfabb3613ba93_schiaparelli_enhanced.tif_full.jpg'},\n",
       " {'title': 'Syrtis Major Hemisphere',\n",
       "  'img_url': 'https://marshemispheres.com/images/555e6403a6ddd7ba16ddb0e471cadcf7_syrtis_major_enhanced.tif_full.jpg'},\n",
       " {'title': 'Valles Marineris Hemisphere',\n",
       "  'img_url': 'https://marshemispheres.com/images/b3c7c6c9138f57b4756be9b9c43e3a48_valles_marineris_enhanced.tif_full.jpg'}]"
      ]
     },
     "execution_count": 73,
     "metadata": {},
     "output_type": "execute_result"
    }
   ],
   "source": [
    "combined_url = []\n",
    "\n",
    "for x in links_list:\n",
    "    browser.visit(x)\n",
    "    links_html = browser.html\n",
    "    links_soup = bs(links_html, 'html.parser')\n",
    "    title_links = links_soup.find_all(\"h2\", class_=\"title\")[0].text.split()\n",
    "    title_links.pop()\n",
    "    title_links = \" \".join(title_links)\n",
    "    image_url = hemispheres_url + links_soup.find_all('img', class_=\"wide-image\")[0][\"src\"]\n",
    "    list_dict = {\"title\": title_links, \"img_url\": image_url}\n",
    "    combined_url.append(list_dict)\n",
    "    \n",
    "combined_url"
   ]
  }
 ],
 "metadata": {
  "kernelspec": {
   "display_name": "Python 3",
   "language": "python",
   "name": "python3"
  },
  "language_info": {
   "codemirror_mode": {
    "name": "ipython",
    "version": 3
   },
   "file_extension": ".py",
   "mimetype": "text/x-python",
   "name": "python",
   "nbconvert_exporter": "python",
   "pygments_lexer": "ipython3",
   "version": "3.8.8"
  }
 },
 "nbformat": 4,
 "nbformat_minor": 5
}
